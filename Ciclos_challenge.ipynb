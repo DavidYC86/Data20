{
  "nbformat": 4,
  "nbformat_minor": 0,
  "metadata": {
    "colab": {
      "provenance": [],
      "authorship_tag": "ABX9TyPVuMH3n75cf2q9JmZzluTr",
      "include_colab_link": true
    },
    "kernelspec": {
      "name": "python3",
      "display_name": "Python 3"
    },
    "language_info": {
      "name": "python"
    }
  },
  "cells": [
    {
      "cell_type": "markdown",
      "metadata": {
        "id": "view-in-github",
        "colab_type": "text"
      },
      "source": [
        "<a href=\"https://colab.research.google.com/github/DavidYC86/Data20/blob/main/Ciclos_challenge.ipynb\" target=\"_parent\"><img src=\"https://colab.research.google.com/assets/colab-badge.svg\" alt=\"Open In Colab\"/></a>"
      ]
    },
    {
      "cell_type": "markdown",
      "source": [
        "1. Escribe un ciclo que imprima los números del 1 al 10"
      ],
      "metadata": {
        "id": "GRF5BINVZQeQ"
      }
    },
    {
      "cell_type": "code",
      "source": [
        "firstNumbers = ['1','2', '3', '4', '5', '6', '7', '8', '9', '10']\n",
        "print(firstNumbers)\n",
        "for firstNumber in firstNumbers:\n",
        "  print(firstNumber)"
      ],
      "metadata": {
        "colab": {
          "base_uri": "https://localhost:8080/"
        },
        "id": "UxtNEMIFZVUi",
        "outputId": "e094b19d-3d83-4372-b6f3-af9536565ee5"
      },
      "execution_count": 52,
      "outputs": [
        {
          "output_type": "stream",
          "name": "stdout",
          "text": [
            "['1', '2', '3', '4', '5', '6', '7', '8', '9', '10']\n",
            "1\n",
            "2\n",
            "3\n",
            "4\n",
            "5\n",
            "6\n",
            "7\n",
            "8\n",
            "9\n",
            "10\n"
          ]
        }
      ]
    },
    {
      "cell_type": "code",
      "source": [
        "numbers = [1, 2, 3, 4, 5, 6, 7, 8, 9, 10]\n",
        "print(numbers)\n",
        "for number in numbers: #it took me 2 hours to understand the colon and intend was missing\n",
        "  print (number)\n",
        "  "
      ],
      "metadata": {
        "colab": {
          "base_uri": "https://localhost:8080/"
        },
        "id": "I4YGDb-RoLuE",
        "outputId": "f2572813-4cc2-4d18-c4fe-4d317498e989"
      },
      "execution_count": 50,
      "outputs": [
        {
          "output_type": "stream",
          "name": "stdout",
          "text": [
            "[1, 2, 3, 4, 5, 6, 7, 8, 9, 10]\n",
            "1\n",
            "2\n",
            "3\n",
            "4\n",
            "5\n",
            "6\n",
            "7\n",
            "8\n",
            "9\n",
            "10\n"
          ]
        }
      ]
    },
    {
      "cell_type": "code",
      "source": [
        "for value in range (1,11):\n",
        "  print(value)"
      ],
      "metadata": {
        "colab": {
          "base_uri": "https://localhost:8080/"
        },
        "id": "Rc64vnw_FR3s",
        "outputId": "58b21c9a-8741-4b68-ccc6-393c1f8619cc"
      },
      "execution_count": 56,
      "outputs": [
        {
          "output_type": "stream",
          "name": "stdout",
          "text": [
            "1\n",
            "2\n",
            "3\n",
            "4\n",
            "5\n",
            "6\n",
            "7\n",
            "8\n",
            "9\n",
            "10\n"
          ]
        }
      ]
    },
    {
      "cell_type": "markdown",
      "source": [
        "2. Escribe un ciclo que imprima los números pares entre el 30 y el 50 (incluyendo el 30 y excluyendo el 50)"
      ],
      "metadata": {
        "id": "JiLIUwLoEcL1"
      }
    },
    {
      "cell_type": "code",
      "source": [
        "evenNumbers = list(range(30,50,2))\n",
        "print(evenNumbers)\n",
        "\n",
        "for value in range (30,50,2):\n",
        "  print(value)"
      ],
      "metadata": {
        "colab": {
          "base_uri": "https://localhost:8080/"
        },
        "id": "3P4LgiFKEhG-",
        "outputId": "4bf13cbf-6c5b-4519-e4f6-035d023195a8"
      },
      "execution_count": 63,
      "outputs": [
        {
          "output_type": "stream",
          "name": "stdout",
          "text": [
            "[30, 32, 34, 36, 38, 40, 42, 44, 46, 48]\n",
            "30\n",
            "32\n",
            "34\n",
            "36\n",
            "38\n",
            "40\n",
            "42\n",
            "44\n",
            "46\n",
            "48\n"
          ]
        }
      ]
    },
    {
      "cell_type": "markdown",
      "source": [
        "3. Escribe un ciclo que imprima los valores entre el 3 y el 8 en pasos de 2 en 2."
      ],
      "metadata": {
        "id": "qAtC_156aviK"
      }
    },
    {
      "cell_type": "code",
      "source": [
        "oddNumbers = list(range(1,9,2))\n",
        "print(oddNumbers)\n",
        "for value in range(1,10,2):\n",
        "  print(value)"
      ],
      "metadata": {
        "colab": {
          "base_uri": "https://localhost:8080/"
        },
        "id": "rHLEzyr0awiM",
        "outputId": "a7e990d0-574c-41ba-8e54-392a44daef31"
      },
      "execution_count": 82,
      "outputs": [
        {
          "output_type": "stream",
          "name": "stdout",
          "text": [
            "[1, 3, 5, 7]\n",
            "1\n",
            "3\n",
            "5\n",
            "7\n",
            "9\n"
          ]
        }
      ]
    },
    {
      "cell_type": "markdown",
      "source": [
        "4. Escribe un ciclo que recorra la siguiente lista e imprima cada nombre de pokemon:"
      ],
      "metadata": {
        "id": "6UvuvvRklNcA"
      }
    },
    {
      "cell_type": "code",
      "source": [
        "pokemones = ['Bulbasaur', 'Ivysaur', 'Squirtle', 'Venusaur', 'Charmander', \n",
        "           'Squirtle', 'Charmeleon', 'Pidgey', 'Pikachu', 'Squirtle']\n",
        "for pokemon in pokemones:\n",
        "  print(pokemon.title())\n",
        "\n"
      ],
      "metadata": {
        "colab": {
          "base_uri": "https://localhost:8080/"
        },
        "id": "TWGwiUTVlOMq",
        "outputId": "3960abbe-63c7-472d-d996-6e455fdfcb6b"
      },
      "execution_count": 90,
      "outputs": [
        {
          "output_type": "stream",
          "name": "stdout",
          "text": [
            "Bulbasaur\n",
            "Ivysaur\n",
            "Squirtle\n",
            "Venusaur\n",
            "Charmander\n",
            "Squirtle\n",
            "Charmeleon\n",
            "Pidgey\n",
            "Pikachu\n",
            "Squirtle\n"
          ]
        }
      ]
    }
  ]
}