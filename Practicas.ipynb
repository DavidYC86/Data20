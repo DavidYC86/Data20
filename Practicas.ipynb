{
  "nbformat": 4,
  "nbformat_minor": 0,
  "metadata": {
    "colab": {
      "provenance": [],
      "collapsed_sections": [],
      "authorship_tag": "ABX9TyNpH6py5J8zo7SVArdvoBgP",
      "include_colab_link": true
    },
    "kernelspec": {
      "name": "python3",
      "display_name": "Python 3"
    },
    "language_info": {
      "name": "python"
    }
  },
  "cells": [
    {
      "cell_type": "markdown",
      "metadata": {
        "id": "view-in-github",
        "colab_type": "text"
      },
      "source": [
        "<a href=\"https://colab.research.google.com/github/DavidYC86/Data20/blob/main/Practicas.ipynb\" target=\"_parent\"><img src=\"https://colab.research.google.com/assets/colab-badge.svg\" alt=\"Open In Colab\"/></a>"
      ]
    },
    {
      "cell_type": "code",
      "source": [
        "print (\"Hello Python World!\")\n",
        "message = \"Hello Python World!\"\n",
        "print (message)\n",
        "\n",
        "message = (\"Hello Python Crash Course World!\")\n",
        "print (message)\n",
        "message = (\"Hello Python Crash Course reader!\")\n",
        "print (message)"
      ],
      "metadata": {
        "colab": {
          "base_uri": "https://localhost:8080/"
        },
        "id": "TQtzJJif8aKE",
        "outputId": "442a0b30-75c3-4404-e916-7df3e35e816a"
      },
      "execution_count": null,
      "outputs": [
        {
          "output_type": "stream",
          "name": "stdout",
          "text": [
            "Hello Python World!\n",
            "Hello Python World!\n",
            "Hello Python Crash Course World!\n",
            "Hello Python Crash Course reader!\n"
          ]
        }
      ]
    },
    {
      "cell_type": "code",
      "source": [
        "#Simple message\n",
        "firstWords = (\"Hello i'm David and i'm learning programming\")\n",
        "print (firstWords)\n",
        "fisrtWords = (\"I'd like to improve my skills\")\n",
        "print (fisrtWords)"
      ],
      "metadata": {
        "colab": {
          "base_uri": "https://localhost:8080/"
        },
        "id": "CarZl_8yH3Fx",
        "outputId": "daea084b-8aff-4224-f105-1feff970f4df"
      },
      "execution_count": null,
      "outputs": [
        {
          "output_type": "stream",
          "name": "stdout",
          "text": [
            "Hello i'm David and i'm learning programming\n",
            "I'd like to improve my skills\n"
          ]
        }
      ]
    },
    {
      "cell_type": "markdown",
      "source": [
        "A method is an action that Python can perform on a piece of data"
      ],
      "metadata": {
        "id": "wh2V8Uwo3796"
      }
    },
    {
      "cell_type": "code",
      "source": [
        "#\"This is a string\" 'this is also a string' pay attention to the kind of quotes\n",
        "#Changing case (title, upper or lower) in a string with method\n",
        "#name.py\n",
        "name = \"ada lovelace\"\n",
        "print (name.title())\n",
        "name = \"Ada Lovelace\"\n",
        "print (name.upper())\n",
        "print (name.lower())\n"
      ],
      "metadata": {
        "colab": {
          "base_uri": "https://localhost:8080/"
        },
        "id": "gdk82oj8KL12",
        "outputId": "76e62e76-535f-40e0-f0c0-0d1278123eae"
      },
      "execution_count": null,
      "outputs": [
        {
          "output_type": "stream",
          "name": "stdout",
          "text": [
            "Ada Lovelace\n",
            "ADA LOVELACE\n",
            "ada lovelace\n"
          ]
        }
      ]
    },
    {
      "cell_type": "code",
      "source": [
        "#Concatenating string\n",
        "firstName = \"ada\"\n",
        "lastName = \"lovelace\"\n",
        "fullName = firstName + \" \" + lastName \n",
        "#The space betwen quotes must be considered\n",
        "print (fullName)\n",
        "print (\"Hello, \" + fullName.title() + \"!\")\n",
        "print (\"\\tHello, \" + fullName.title() + \"!!!\" + \" \" + \"\\n\\t(with tab)\")\n",
        "\n",
        "print(\"Languages:\\n\\tPython\\n\\tC++\\n\\tJavaScript\")"
      ],
      "metadata": {
        "colab": {
          "base_uri": "https://localhost:8080/"
        },
        "id": "dfqMa5O74ZYN",
        "outputId": "e7ae8a7f-a316-44e1-fff8-627850946610"
      },
      "execution_count": null,
      "outputs": [
        {
          "output_type": "stream",
          "name": "stdout",
          "text": [
            "ada lovelace\n",
            "Hello, Ada Lovelace!\n",
            "\tHello, Ada Lovelace!!! \n",
            "\t(with tab)\n",
            "Languages:\n",
            "\tPython\n",
            "\tC++\n",
            "\tJavaScript\n"
          ]
        }
      ]
    },
    {
      "cell_type": "code",
      "source": [
        "#Removing extra white space from strings\n",
        "#We use rstrip() method\n",
        "\n",
        "favouriteLanguage = 'python '\n",
        "print(favouriteLanguage)\n",
        "favouriteLanguage.rstrip()\n",
        "favouriteLanguage\n",
        "\n",
        "favouriteLanguage = 'python '\n",
        "favouriteLanguage = favouriteLanguage.lstrip()\n",
        "favouriteLanguage\n",
        "\n"
      ],
      "metadata": {
        "colab": {
          "base_uri": "https://localhost:8080/",
          "height": 53
        },
        "id": "KvYcsirdt0Oi",
        "outputId": "6569830b-b0fa-4a57-d633-9552ac71b74f"
      },
      "execution_count": null,
      "outputs": [
        {
          "output_type": "stream",
          "name": "stdout",
          "text": [
            "python \n"
          ]
        },
        {
          "output_type": "execute_result",
          "data": {
            "text/plain": [
              "'python '"
            ],
            "application/vnd.google.colaboratory.intrinsic+json": {
              "type": "string"
            }
          },
          "metadata": {},
          "execution_count": 13
        }
      ]
    },
    {
      "cell_type": "code",
      "source": [
        "#apostrophe.py\n",
        "message = \"One of Python's strenghts is its diverse community.\"\n",
        "print (message)\n",
        "#however if you use single quotes, Python can't identify where the string should end\n",
        "message = 'One of Python's strenghts is its diverse community'"
      ],
      "metadata": {
        "colab": {
          "base_uri": "https://localhost:8080/",
          "height": 130
        },
        "id": "kikNXzCmyTud",
        "outputId": "a40e2394-03c2-48d6-df92-611470ef668d"
      },
      "execution_count": null,
      "outputs": [
        {
          "output_type": "error",
          "ename": "SyntaxError",
          "evalue": "ignored",
          "traceback": [
            "\u001b[0;36m  File \u001b[0;32m\"<ipython-input-14-cde0c69256a1>\"\u001b[0;36m, line \u001b[0;32m5\u001b[0m\n\u001b[0;31m    message = 'One of Python's strenghts is its diverse community'\u001b[0m\n\u001b[0m                             ^\u001b[0m\n\u001b[0;31mSyntaxError\u001b[0m\u001b[0;31m:\u001b[0m invalid syntax\n"
          ]
        }
      ]
    },
    {
      "cell_type": "code",
      "source": [
        "#Integers: you can add (+), substract (-), multiply (*) and divide (/) integers in Python\n",
        "2 + 3 \n",
        "3 - 2\n",
        "2 * 3 \n",
        "3 / 2\n",
        "\n",
        "#In a terminal session, Python simply returns the result of the operation. \n",
        "#To represent exponent, Python uses two multiplication symbols.\n",
        "\n",
        "3 ** 2\n",
        "\n",
        "2 + 3*4 \n",
        "(2 + 3) * 4\n",
        "\n",
        "#Float = any number with a decimal point. \n",
        "#At python language simply enter the number you want to use, \n",
        "#and it'll most likely do what you expect. \n",
        "#But sometimes you get an arbitrary number\n",
        "< \n",
        "0.1 + 0.1\n",
        "0.2 + 0.1 \n",
        "3 * 0.1\n",
        "\n"
      ],
      "metadata": {
        "colab": {
          "base_uri": "https://localhost:8080/",
          "height": 130
        },
        "id": "DBLYGHw0z-Dy",
        "outputId": "79dbc62d-11a8-4096-c70e-b5f952de37d2"
      },
      "execution_count": null,
      "outputs": [
        {
          "output_type": "error",
          "ename": "SyntaxError",
          "evalue": "ignored",
          "traceback": [
            "\u001b[0;36m  File \u001b[0;32m\"<ipython-input-15-3878ad420325>\"\u001b[0;36m, line \u001b[0;32m19\u001b[0m\n\u001b[0;31m    <\u001b[0m\n\u001b[0m    ^\u001b[0m\n\u001b[0;31mSyntaxError\u001b[0m\u001b[0;31m:\u001b[0m invalid syntax\n"
          ]
        }
      ]
    },
    {
      "cell_type": "code",
      "source": [
        "#Using a variable's value within a message\n",
        "\n",
        "age = 23\n",
        "message = \"Happy \" + age + \"rd Birthday!\"\n",
        "print (message)"
      ],
      "metadata": {
        "colab": {
          "base_uri": "https://localhost:8080/",
          "height": 217
        },
        "id": "nJKWeLqg4oNh",
        "outputId": "9c4afe15-5888-4e8e-bcd6-c4d858812d90"
      },
      "execution_count": null,
      "outputs": [
        {
          "output_type": "error",
          "ename": "TypeError",
          "evalue": "ignored",
          "traceback": [
            "\u001b[0;31m---------------------------------------------------------------------------\u001b[0m",
            "\u001b[0;31mTypeError\u001b[0m                                 Traceback (most recent call last)",
            "\u001b[0;32m<ipython-input-16-e190cb6cfb1b>\u001b[0m in \u001b[0;36m<module>\u001b[0;34m\u001b[0m\n\u001b[1;32m      2\u001b[0m \u001b[0;34m\u001b[0m\u001b[0m\n\u001b[1;32m      3\u001b[0m \u001b[0mage\u001b[0m \u001b[0;34m=\u001b[0m \u001b[0;36m23\u001b[0m\u001b[0;34m\u001b[0m\u001b[0;34m\u001b[0m\u001b[0m\n\u001b[0;32m----> 4\u001b[0;31m \u001b[0mmessage\u001b[0m \u001b[0;34m=\u001b[0m \u001b[0;34m\"Happy \"\u001b[0m \u001b[0;34m+\u001b[0m \u001b[0mage\u001b[0m \u001b[0;34m+\u001b[0m \u001b[0;34m\"rd Birthday!\"\u001b[0m\u001b[0;34m\u001b[0m\u001b[0;34m\u001b[0m\u001b[0m\n\u001b[0m\u001b[1;32m      5\u001b[0m \u001b[0mprint\u001b[0m \u001b[0;34m(\u001b[0m\u001b[0mmessage\u001b[0m\u001b[0;34m)\u001b[0m\u001b[0;34m\u001b[0m\u001b[0;34m\u001b[0m\u001b[0m\n",
            "\u001b[0;31mTypeError\u001b[0m: can only concatenate str (not \"int\") to str"
          ]
        }
      ]
    },
    {
      "cell_type": "code",
      "source": [
        "#Using a variable's value within a message\n",
        "age = 23\n",
        "message = \"Happy \" + str(age) + \"rd Birthday!\"\n",
        "print (message)"
      ],
      "metadata": {
        "colab": {
          "base_uri": "https://localhost:8080/"
        },
        "id": "MyttPFtv6Bfr",
        "outputId": "8068ceb6-4fd6-4b9c-994a-86bb6800a525"
      },
      "execution_count": null,
      "outputs": [
        {
          "output_type": "stream",
          "name": "stdout",
          "text": [
            "Happy 23rd Birthday!\n"
          ]
        }
      ]
    },
    {
      "cell_type": "code",
      "source": [
        "#Trying myself\n",
        "myfavouriteNumber = 33\n",
        "message = \"My favourite number is \" + str(myfavouriteNumber) + \", i love it!\"\n",
        "print (message)"
      ],
      "metadata": {
        "colab": {
          "base_uri": "https://localhost:8080/"
        },
        "id": "fpXN5qYLAl9l",
        "outputId": "dc20b802-3d32-4b61-abaf-65322f83d472"
      },
      "execution_count": null,
      "outputs": [
        {
          "output_type": "stream",
          "name": "stdout",
          "text": [
            "My favourite number is 33, i love it!\n"
          ]
        }
      ]
    },
    {
      "cell_type": "code",
      "source": [
        "import this"
      ],
      "metadata": {
        "colab": {
          "base_uri": "https://localhost:8080/"
        },
        "id": "QBOGsJaHNgwy",
        "outputId": "bb1a8368-edf9-41a5-d07b-f4f2cc2a66f1"
      },
      "execution_count": null,
      "outputs": [
        {
          "output_type": "stream",
          "name": "stdout",
          "text": [
            "The Zen of Python, by Tim Peters\n",
            "\n",
            "Beautiful is better than ugly.\n",
            "Explicit is better than implicit.\n",
            "Simple is better than complex.\n",
            "Complex is better than complicated.\n",
            "Flat is better than nested.\n",
            "Sparse is better than dense.\n",
            "Readability counts.\n",
            "Special cases aren't special enough to break the rules.\n",
            "Although practicality beats purity.\n",
            "Errors should never pass silently.\n",
            "Unless explicitly silenced.\n",
            "In the face of ambiguity, refuse the temptation to guess.\n",
            "There should be one-- and preferably only one --obvious way to do it.\n",
            "Although that way may not be obvious at first unless you're Dutch.\n",
            "Now is better than never.\n",
            "Although never is often better than *right* now.\n",
            "If the implementation is hard to explain, it's a bad idea.\n",
            "If the implementation is easy to explain, it may be a good idea.\n",
            "Namespaces are one honking great idea -- let's do more of those!\n"
          ]
        }
      ]
    },
    {
      "cell_type": "code",
      "source": [
        "#Lists allow you to store set of information in one place, \n",
        "#whether you have just a few items or millions of items\n",
        "#In python square brackets ([]) indicate a list\n",
        "bicycles = ['trek', 'canondale', 'redline', 'santa cruz']\n",
        "print(bicycles) #This is not the output you want your user to see\n",
        "#So tell python the position of the element you want to see\n",
        "bicycles = ['trek', 'canondale', 'redline', 'santa cruz']\n",
        "print(bicycles[3])\n",
        "#write the name of the list followed by the index of the item, starting at '0'\n",
        "print(bicycles[3].title())\n",
        "#For calling the last item in the list use next instance:\n",
        "print(bicycles[-1])\n",
        "print(bicycles[-2].title())\n",
        "message = \"My first bicycle was a \" + bicycles[-2].title() + \".\"\n",
        "print(message)\n",
        "\n"
      ],
      "metadata": {
        "colab": {
          "base_uri": "https://localhost:8080/"
        },
        "id": "6vB8YxO9ct4o",
        "outputId": "7e2ef958-8629-4070-83a9-779099de0721"
      },
      "execution_count": null,
      "outputs": [
        {
          "output_type": "stream",
          "name": "stdout",
          "text": [
            "['trek', 'canondale', 'redline', 'santa cruz']\n",
            "santa cruz\n",
            "Santa Cruz\n",
            "santa cruz\n",
            "Redline\n",
            "My first bicycle was a Redline.\n"
          ]
        }
      ]
    },
    {
      "cell_type": "code",
      "source": [
        "friendsList = (\"Miguel\", \"Manu\", \"Karen\",)\n",
        "print(friendsList[0])\n",
        "print(friendsList[1])\n",
        "print(friendsList[2])\n",
        "\n",
        "message = \"I love you so much \" + friendsList[1] + \"!\"\n",
        "message = \"I love you so much \" + friendsList[0] + \"!\"\n",
        "\n",
        "\n",
        "print(message)"
      ],
      "metadata": {
        "colab": {
          "base_uri": "https://localhost:8080/"
        },
        "id": "26rBMgJvkXwn",
        "outputId": "2234a321-9868-4460-b06a-8714fc4bc0c2"
      },
      "execution_count": 50,
      "outputs": [
        {
          "output_type": "stream",
          "name": "stdout",
          "text": [
            "Miguel\n",
            "Manu\n",
            "Karen\n",
            "I love you so much Miguel!\n"
          ]
        }
      ]
    },
    {
      "cell_type": "code",
      "source": [
        "motorcycles = ['honda', 'yamaha', 'suzuki']\n",
        "print(motorcycles)\n",
        "motorcycles[0] = 'ducati'\n",
        "print (motorcycles[0].title())"
      ],
      "metadata": {
        "colab": {
          "base_uri": "https://localhost:8080/"
        },
        "id": "u8xX4U_prCDj",
        "outputId": "6a0b7b46-b600-4229-9985-5746746477e6"
      },
      "execution_count": null,
      "outputs": [
        {
          "output_type": "stream",
          "name": "stdout",
          "text": [
            "['honda', 'yamaha', 'suzuki']\n",
            "Ducati\n"
          ]
        }
      ]
    },
    {
      "cell_type": "code",
      "source": [
        "#adding items, at the end and in an specific position\n",
        "motorcycles.append('ducati')\n",
        "print (motorcycles)\n",
        "motorcycles = []\n",
        "motorcycles.append ('italika')\n",
        "motorcycles.append ('triumph')\n",
        "motorcycles.append ('yamaha')\n",
        "print(motorcycles)\n",
        "motorcycles.insert (1, 'ducati')\n",
        "print(motorcycles)\n",
        "#removing items you know its position\n",
        "motorcycles = ['honda', 'yamaha', 'suzuki']\n",
        "print(motorcycles[0].title(), motorcycles[1].title(), motorcycles[-1].title())\n",
        "del motorcycles[0]\n",
        "print(motorcycles)"
      ],
      "metadata": {
        "colab": {
          "base_uri": "https://localhost:8080/"
        },
        "id": "ykaAzmbYNuHW",
        "outputId": "26a30035-7ceb-4465-8609-84b3eb301f33"
      },
      "execution_count": null,
      "outputs": [
        {
          "output_type": "stream",
          "name": "stdout",
          "text": [
            "['ducati', 'yamaha', 'suzuki', 'ducati']\n",
            "['italika', 'triumph', 'yamaha']\n",
            "['italika', 'ducati', 'triumph', 'yamaha']\n",
            "Honda Yamaha Suzuki\n",
            "['yamaha', 'suzuki']\n"
          ]
        }
      ]
    },
    {
      "cell_type": "code",
      "source": [
        " "
      ],
      "metadata": {
        "id": "y01wx9OYFUwi"
      },
      "execution_count": null,
      "outputs": []
    },
    {
      "cell_type": "code",
      "source": [
        "#pop() method. Lets pop a motorcycle form the list of motorcycles\n",
        "\n",
        "motorcycles = ['honda', 'ducati', 'yamaha', 'suzuki', 'italika']\n",
        "print (motorcycles)\n",
        "\n",
        "poppedMotorcycles = motorcycles.pop()\n",
        "print(motorcycles)\n",
        "print(poppedMotorcycles)\n",
        "\n",
        "#.sort() Method\n"
      ],
      "metadata": {
        "colab": {
          "base_uri": "https://localhost:8080/"
        },
        "id": "Mg8RmpP3BYy9",
        "outputId": "3a65b06b-fc73-4e1a-fc42-10a4eff4ee55"
      },
      "execution_count": null,
      "outputs": [
        {
          "output_type": "stream",
          "name": "stdout",
          "text": [
            "['honda', 'ducati', 'yamaha', 'suzuki', 'italika']\n",
            "['honda', 'ducati', 'yamaha', 'suzuki']\n",
            "italika\n"
          ]
        }
      ]
    },
    {
      "cell_type": "code",
      "source": [
        "from IPython.utils.py3compat import cast_bytes\n",
        "magicians = ['alice','david','carolina']\n",
        "for magician in magicians:\n",
        "  print(magician)"
      ],
      "metadata": {
        "colab": {
          "base_uri": "https://localhost:8080/"
        },
        "id": "o9uwBhT6i7R1",
        "outputId": "a63f9cd9-dc10-4e6a-b72c-6a50d2c2d843"
      },
      "execution_count": null,
      "outputs": [
        {
          "output_type": "stream",
          "name": "stdout",
          "text": [
            "alice\n",
            "david\n",
            "carolina\n"
          ]
        }
      ]
    },
    {
      "cell_type": "code",
      "source": [
        "magicians = ['alice', 'david', 'carolina']\n",
        "for magician in magicians:\n",
        "  print(magician.title() + \", that was a great trick!\")\n",
        "  print(\"I can't wait to see your next trick, \" + magician.title() + \".\\n\")\n",
        "\n",
        "print(\"Thank you, everyone. That was a great magic show\")\n",
        "\n"
      ],
      "metadata": {
        "id": "CyisfevrzMo0",
        "colab": {
          "base_uri": "https://localhost:8080/"
        },
        "outputId": "f7813102-3af2-4f83-aa1c-179baa07252f"
      },
      "execution_count": 45,
      "outputs": [
        {
          "output_type": "stream",
          "name": "stdout",
          "text": [
            "Alice, that was a great trick!\n",
            "I can't wait to see your next trick, Alice.\n",
            "\n",
            "David, that was a great trick!\n",
            "I can't wait to see your next trick, David.\n",
            "\n",
            "Carolina, that was a great trick!\n",
            "I can't wait to see your next trick, Carolina.\n",
            "\n",
            "Thank you, everyone. That was a great magic show\n"
          ]
        }
      ]
    },
    {
      "cell_type": "code",
      "source": [
        "#Using the range() function\n",
        "for value in range (1,5):\n",
        "  print(value)\n",
        "numbers = list(range(1,6))\n",
        "print(numbers)"
      ],
      "metadata": {
        "colab": {
          "base_uri": "https://localhost:8080/"
        },
        "id": "-IH4h0HfE8qj",
        "outputId": "61a8f482-0327-4b82-e37f-4a7ed844a95a"
      },
      "execution_count": 48,
      "outputs": [
        {
          "output_type": "stream",
          "name": "stdout",
          "text": [
            "1\n",
            "2\n",
            "3\n",
            "4\n",
            "[1, 2, 3, 4, 5]\n"
          ]
        }
      ]
    },
    {
      "cell_type": "code",
      "source": [
        "#skip numbers in a given range\n",
        "evenNumbers = list(range(2,11,2))\n",
        "print(evenNumbers)"
      ],
      "metadata": {
        "colab": {
          "base_uri": "https://localhost:8080/"
        },
        "id": "XD2EoLi1ZQjh",
        "outputId": "8e3a3be6-f4b4-4df5-d902-26bb5e69f394"
      },
      "execution_count": 49,
      "outputs": [
        {
          "output_type": "stream",
          "name": "stdout",
          "text": [
            "[2, 4, 6, 8, 10]\n"
          ]
        }
      ]
    },
    {
      "cell_type": "code",
      "source": [
        "squares = []\n",
        "for value in range(1,11):\n",
        "  square = value**2\n",
        "  squares.append(square)\n",
        "\n",
        "print(squares)"
      ],
      "metadata": {
        "colab": {
          "base_uri": "https://localhost:8080/"
        },
        "id": "rUxecCjQiNlp",
        "outputId": "01fca286-cea2-4796-cbc4-f7c816528ee7"
      },
      "execution_count": 51,
      "outputs": [
        {
          "output_type": "stream",
          "name": "stdout",
          "text": [
            "[1, 4, 9, 16, 25, 36, 49, 64, 81, 100]\n"
          ]
        }
      ]
    },
    {
      "cell_type": "code",
      "source": [
        "#More concisely\n",
        "squares = []\n",
        "for value in range (1,11):\n",
        "  squares.append(value**2)\n",
        "print(squares)"
      ],
      "metadata": {
        "colab": {
          "base_uri": "https://localhost:8080/"
        },
        "id": "hPPb3wtNjX50",
        "outputId": "51c3e6c0-eda5-47bf-bf00-0bee785a1e9f"
      },
      "execution_count": 53,
      "outputs": [
        {
          "output_type": "stream",
          "name": "stdout",
          "text": [
            "[1, 4, 9, 16, 25, 36, 49, 64, 81, 100]\n"
          ]
        }
      ]
    }
  ]
}